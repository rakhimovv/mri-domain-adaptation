{
 "cells": [
  {
   "cell_type": "code",
   "execution_count": null,
   "metadata": {},
   "outputs": [],
   "source": [
    "%load_ext autoreload\n",
    "%autoreload 2"
   ]
  },
  {
   "cell_type": "code",
   "execution_count": null,
   "metadata": {},
   "outputs": [],
   "source": [
    "import functools\n",
    "import numpy as np\n",
    "from sklearn.metrics import roc_auc_score\n",
    "from sklearn.model_selection import StratifiedKFold, StratifiedShuffleSplit\n",
    "import torch\n",
    "from torch.utils.data import DataLoader, Subset\n",
    "import matplotlib.pyplot as plt\n",
    "\n",
    "from IPython.display import set_matplotlib_formats\n",
    "set_matplotlib_formats('retina')\n",
    "%matplotlib inline"
   ]
  },
  {
   "cell_type": "code",
   "execution_count": null,
   "metadata": {},
   "outputs": [],
   "source": [
    "import os\n",
    "os.environ['CUDA_VISIBLE_DEVICES'] = '1'\n",
    "device = \"cuda:0\" if torch.cuda.is_available() else 'cpu'\n",
    "print(device)"
   ]
  },
  {
   "cell_type": "code",
   "execution_count": null,
   "metadata": {},
   "outputs": [],
   "source": [
    "import data\n",
    "import models\n",
    "import paths\n",
    "import routine\n",
    "import viz_tools"
   ]
  },
  {
   "cell_type": "markdown",
   "metadata": {},
   "source": [
    "# Data"
   ]
  },
  {
   "cell_type": "code",
   "execution_count": null,
   "metadata": {},
   "outputs": [],
   "source": [
    "def get_absmax(dataset):\n",
    "    absmax = 0.\n",
    "    for (img, target) in dataset:\n",
    "        absmax = max(absmax, img.abs().max().item())\n",
    "        del img, target\n",
    "    return absmax\n",
    "\n",
    "def AbsMaxScale(img, absmax):\n",
    "    return img / absmax"
   ]
  },
  {
   "cell_type": "code",
   "execution_count": null,
   "metadata": {},
   "outputs": [],
   "source": [
    "la5_dataset = data.LA5_Siblings_MRI(\n",
    "    paths=paths.la5_data,\n",
    "    target_path=paths.la5_target_path,\n",
    "    load_online=True,\n",
    "    mri_type=\"sMRI\",\n",
    "    mri_file_suffix=paths.la5_smri_file_suffix,\n",
    "    brain_mask_suffix=paths.la5_smri_brain_mask_suffix,\n",
    "    coord_min=(20,20,0),\n",
    "    img_shape=(153, 189, 163),\n",
    "    problems=['Schz/Control'],\n",
    "    temp_storage_path=paths.la5_temp_npy_folder_path\n",
    ")\n",
    "la5_absmax = get_absmax(la5_dataset)\n",
    "la5_dataset.transform = functools.partial(AbsMaxScale, la5_absmax)\n",
    "print(\"Dataset size: {}\".format(len(la5_dataset)))\n",
    "print(\"Labels distribution: {}\\n\".format(np.unique(la5_dataset.labels, return_counts=True)))\n",
    "\n",
    "print(\"Example:\")\n",
    "img, target = la5_dataset[0]\n",
    "print(\"Image shape: {}\".format(img.shape))\n",
    "print(\"Target: {}\".format(target))\n",
    "viz_tools.plot_central_cuts(img)"
   ]
  },
  {
   "cell_type": "code",
   "execution_count": null,
   "metadata": {},
   "outputs": [],
   "source": [
    "sibl_dataset = data.LA5_Siblings_MRI(\n",
    "    paths=paths.sibl_data,\n",
    "    target_path=paths.sibl_target_path,\n",
    "    load_online=True,\n",
    "    mri_type=\"sMRI\",\n",
    "    mri_file_suffix=paths.sibl_smri_file_suffix,\n",
    "    brain_mask_suffix=paths.sibl_smri_brain_mask_suffix,\n",
    "    coord_min=(20,20,0),\n",
    "    img_shape=(153, 189, 163),\n",
    "    problems=['Schz/Control'],\n",
    "    temp_storage_path=paths.sibl_temp_npy_folder_path,\n",
    ")\n",
    "sibl_absmax = get_absmax(sibl_dataset)\n",
    "sibl_dataset.transform = functools.partial(AbsMaxScale, sibl_absmax)\n",
    "print(\"Dataset size: {}\".format(len(sibl_dataset)))\n",
    "print(\"Labels distribution: {}\\n\".format(np.unique(sibl_dataset.labels, return_counts=True)))\n",
    "\n",
    "print(\"Example:\")\n",
    "img, target = sibl_dataset[0]\n",
    "print(\"Image shape: {}\".format(img.shape))\n",
    "print(\"Target: {}\".format(target))\n",
    "viz_tools.plot_central_cuts(img)"
   ]
  },
  {
   "cell_type": "markdown",
   "metadata": {},
   "source": [
    "# Model structure"
   ]
  },
  {
   "cell_type": "code",
   "execution_count": null,
   "metadata": {},
   "outputs": [],
   "source": [
    "def create_model_opt(model_load_path=None, transfer=False):\n",
    "    # reproducibility\n",
    "    torch.manual_seed(0)\n",
    "    np.random.seed(0)\n",
    "    torch.backends.cudnn.deterministic = True\n",
    "    torch.backends.cudnn.benchmark = False\n",
    "\n",
    "    model = models.VoxResNet(num_classes=2, n_filters=32, stride=2, n_blocks=4,\n",
    "                             input_shape=la5_dataset.img_shape, dropout=0., n_fc_units=128,\n",
    "                             n_flatten_units=23040)\n",
    "    \n",
    "    if model_load_path is not None:\n",
    "        model.load_state_dict(torch.load(model_load_path))  \n",
    "    if transfer:\n",
    "        for param in model.parameters():\n",
    "            param.requires_grad = False\n",
    "        model_conv.fully_conn_2 = torch.nn.Linear(128, 2)\n",
    "        opt = torch.optim.Adam(model_conv.fully_conn_2.parameters(), lr=3e-5)\n",
    "    else:\n",
    "        opt = torch.optim.Adam(model.parameters(), lr=3e-5)\n",
    "    return model, opt"
   ]
  },
  {
   "cell_type": "markdown",
   "metadata": {},
   "source": [
    "# Train - LA5, Test - LA5"
   ]
  },
  {
   "cell_type": "code",
   "execution_count": null,
   "metadata": {},
   "outputs": [],
   "source": [
    "%%time\n",
    "cv = StratifiedKFold(n_splits=5, shuffle=True, random_state=42)\n",
    "metric = roc_auc_score\n",
    "val_metrics = routine.cross_val_score(create_model_opt, la5_dataset, cv, device, metric, batch_size=10)\n",
    "print(\"val {}s: {}\".format(metric.__name__, val_metrics))\n",
    "print(\"val {} mean: {}\".format(metric.__name__, np.mean(val_metrics)))\n",
    "print(\"val {} std: {}\".format(metric.__name__, np.std(val_metrics)))"
   ]
  },
  {
   "cell_type": "markdown",
   "metadata": {},
   "source": [
    "# Train - Siblings, Test - Siblings"
   ]
  },
  {
   "cell_type": "code",
   "execution_count": null,
   "metadata": {},
   "outputs": [],
   "source": [
    "%%time\n",
    "cv = StratifiedKFold(n_splits=5, shuffle=True, random_state=42)\n",
    "metric = roc_auc_score\n",
    "val_metrics = routine.cross_val_score(create_model_opt, sibl_dataset, cv, device, metric, batch_size=10)\n",
    "print(\"val {}s: {}\".format(metric.__name__, val_metrics))\n",
    "print(\"val {} mean: {}\".format(metric.__name__, np.mean(val_metrics)))\n",
    "print(\"val {} std: {}\".format(metric.__name__, np.std(val_metrics)))"
   ]
  },
  {
   "cell_type": "markdown",
   "metadata": {},
   "source": [
    "# Pretrain model on LA5 and save"
   ]
  },
  {
   "cell_type": "code",
   "execution_count": null,
   "metadata": {},
   "outputs": [],
   "source": [
    "model_save_path = \"./models/conv_pretrained_la5.pth\""
   ]
  },
  {
   "cell_type": "code",
   "execution_count": null,
   "metadata": {},
   "outputs": [],
   "source": [
    "%%time\n",
    "model, optimizer = create_model_opt()\n",
    "metric = roc_auc_score\n",
    "train_idx = np.arange(len(la5_dataset))\n",
    "np.random.seed(0)\n",
    "np.random.shuffle(train_idx)\n",
    "train_idx = routine.stratified_batch_indices(train_idx, la5_dataset.labels[train_idx])\n",
    "train_loader = DataLoader(Subset(la5_dataset, train_idx),\n",
    "                          shuffle=False,\n",
    "                          batch_size=10,\n",
    "                          drop_last=False)\n",
    "_ = routine.train(model, optimizer, train_loader, None, device, metric, verbose=1,\n",
    "                  model_save_path=model_save_path)\n",
    "del model, optimizer, train_loader"
   ]
  },
  {
   "cell_type": "markdown",
   "metadata": {},
   "source": [
    "# Pretrain - LA5, Test - Siblings"
   ]
  },
  {
   "cell_type": "code",
   "execution_count": null,
   "metadata": {},
   "outputs": [],
   "source": [
    "%%time\n",
    "cv = StratifiedShuffleSplit(n_splits=1, test_size=0.2, random_state=42)\n",
    "metric = roc_auc_score\n",
    "val_metrics = routine.cross_val_score(create_model_opt, sibl_dataset, cv, device, metric,\n",
    "                                      model_load_path=model_save_path)\n",
    "\n",
    "print(\"val {}s: {}\".format(metric.__name__, val_metrics))\n",
    "print(\"val {} mean: {}\".format(metric.__name__, np.mean(val_metrics)))\n",
    "print(\"val {} std: {}\".format(metric.__name__, np.std(val_metrics)))"
   ]
  },
  {
   "cell_type": "markdown",
   "metadata": {},
   "source": [
    "# Pretrain - LA5, Train/Test - Siblings (fine tuning)"
   ]
  },
  {
   "cell_type": "code",
   "execution_count": null,
   "metadata": {},
   "outputs": [],
   "source": [
    "%%time\n",
    "cv = StratifiedShuffleSplit(n_splits=1, test_size=0.2, random_state=42)\n",
    "metric = roc_auc_score\n",
    "val_metrics = routine.cross_val_score(create_model_opt, sibl_dataset, cv, device, metric,\n",
    "                                      model_load_path=model_save_path, finetune=True)\n",
    "\n",
    "print(\"val {}s: {}\".format(metric.__name__, val_metrics))\n",
    "print(\"val {} mean: {}\".format(metric.__name__, np.mean(val_metrics)))\n",
    "print(\"val {} std: {}\".format(metric.__name__, np.std(val_metrics)))"
   ]
  },
  {
   "cell_type": "markdown",
   "metadata": {},
   "source": [
    "# Pretrain - LA5, Train/Test - Siblings (transfer learning)"
   ]
  },
  {
   "cell_type": "code",
   "execution_count": null,
   "metadata": {},
   "outputs": [],
   "source": [
    "%%time\n",
    "cv = StratifiedShuffleSplit(n_splits=1, test_size=0.2, random_state=42)\n",
    "metric = roc_auc_score\n",
    "val_metrics = routine.cross_val_score(create_model_opt, sibl_dataset, cv, device, metric,\n",
    "                                      model_load_path=model_save_path, transfer=True)\n",
    "\n",
    "print(\"val {}s: {}\".format(metric.__name__, val_metrics))\n",
    "print(\"val {} mean: {}\".format(metric.__name__, np.mean(val_metrics)))\n",
    "print(\"val {} std: {}\".format(metric.__name__, np.std(val_metrics)))"
   ]
  },
  {
   "cell_type": "markdown",
   "metadata": {},
   "source": [
    "# Conclusion"
   ]
  },
  {
   "cell_type": "code",
   "execution_count": null,
   "metadata": {},
   "outputs": [],
   "source": []
  }
 ],
 "metadata": {
  "accelerator": "GPU",
  "colab": {
   "collapsed_sections": [],
   "default_view": {},
   "name": "voxcnn mprage E_no E.ipynb",
   "provenance": [],
   "version": "0.3.2",
   "views": {}
  },
  "kernelspec": {
   "display_name": "Python 3",
   "language": "python",
   "name": "python3"
  },
  "language_info": {
   "codemirror_mode": {
    "name": "ipython",
    "version": 3
   },
   "file_extension": ".py",
   "mimetype": "text/x-python",
   "name": "python",
   "nbconvert_exporter": "python",
   "pygments_lexer": "ipython3",
   "version": "3.6.7"
  }
 },
 "nbformat": 4,
 "nbformat_minor": 2
}
